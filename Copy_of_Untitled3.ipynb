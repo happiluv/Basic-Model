{
  "nbformat": 4,
  "nbformat_minor": 0,
  "metadata": {
    "colab": {
      "provenance": [],
      "authorship_tag": "ABX9TyObss0LI7gbi5tfwMaV6oce",
      "include_colab_link": true
    },
    "kernelspec": {
      "name": "python3",
      "display_name": "Python 3"
    },
    "language_info": {
      "name": "python"
    }
  },
  "cells": [
    {
      "cell_type": "markdown",
      "metadata": {
        "id": "view-in-github",
        "colab_type": "text"
      },
      "source": [
        "<a href=\"https://colab.research.google.com/github/happiluv/Basic-Model/blob/main/Copy_of_Untitled3.ipynb\" target=\"_parent\"><img src=\"https://colab.research.google.com/assets/colab-badge.svg\" alt=\"Open In Colab\"/></a>"
      ]
    },
    {
      "cell_type": "code",
      "execution_count": null,
      "metadata": {
        "id": "jLvUr51YuniL"
      },
      "outputs": [],
      "source": [
        "import pandas as pd\n",
        "import numpy as np\n"
      ]
    },
    {
      "cell_type": "code",
      "source": [
        "df =  pd.read_csv('NFA 2019 public_data.csv')"
      ],
      "metadata": {
        "colab": {
          "base_uri": "https://localhost:8080/"
        },
        "id": "u_7fblpzvNYM",
        "outputId": "0b1ab586-1543-4100-f9fc-c53057b33121"
      },
      "execution_count": null,
      "outputs": [
        {
          "output_type": "stream",
          "name": "stderr",
          "text": [
            "/usr/local/lib/python3.8/dist-packages/IPython/core/interactiveshell.py:3326: DtypeWarning: Columns (6) have mixed types.Specify dtype option on import or set low_memory=False.\n",
            "  exec(code_obj, self.user_global_ns, self.user_ns)\n"
          ]
        }
      ]
    },
    {
      "cell_type": "code",
      "source": [
        "print(df)"
      ],
      "metadata": {
        "colab": {
          "base_uri": "https://localhost:8080/"
        },
        "id": "oDomGoH5vvMl",
        "outputId": "19873bee-6e56-4f58-e147-350626ef44ae"
      },
      "execution_count": null,
      "outputs": [
        {
          "output_type": "stream",
          "name": "stdout",
          "text": [
            "       country  year  country_code        record     crop_land  grazing_land  \\\n",
            "0      Armenia  1992             1    AreaPerCap  1.402924e-01  1.995463e-01   \n",
            "1      Armenia  1992             1     AreaTotHA  4.830000e+05  6.870000e+05   \n",
            "2      Armenia  1992             1  BiocapPerCap  1.598044e-01  1.352610e-01   \n",
            "3      Armenia  1992             1  BiocapTotGHA  5.501762e+05  4.656780e+05   \n",
            "4      Armenia  1992             1  EFConsPerCap  3.875102e-01  1.894622e-01   \n",
            "...        ...   ...           ...           ...           ...           ...   \n",
            "72181    World  2016          5001  BiocapTotGHA  3.984702e+09  1.504757e+09   \n",
            "72182    World  2016          5001  EFConsPerCap  5.336445e-01  1.402092e-01   \n",
            "72183    World  2016          5001  EFConsTotGHA  3.984702e+09  1.046937e+09   \n",
            "72184    World  2016          5001  EFProdPerCap  5.336445e-01  1.402092e-01   \n",
            "72185    World  2016          5001  EFProdTotGHA  3.984702e+09  1.046937e+09   \n",
            "\n",
            "        forest_land  fishing_ground  built_up_land        carbon  \\\n",
            "0       0.097188051    3.688847e-02   2.931995e-02  0.000000e+00   \n",
            "1            334600    1.270000e+05   1.009430e+05  0.000000e+00   \n",
            "2       0.084003213    1.374213e-02   3.339780e-02  0.000000e+00   \n",
            "3       289207.1078    4.731155e+04   1.149823e+05  0.000000e+00   \n",
            "4          1.26E-06    4.164833e-03   3.339780e-02  1.114093e+00   \n",
            "...             ...             ...            ...           ...   \n",
            "72181  5111762779.0    1.095445e+09   4.726163e+08  0.000000e+00   \n",
            "72182      0.273495    8.974253e-02   6.329435e-02  1.646235e+00   \n",
            "72183  2042179333.0    6.701039e+08   4.726163e+08  1.229237e+10   \n",
            "72184      0.273495    8.974253e-02   6.329435e-02  1.646235e+00   \n",
            "72185  2042179333.0    6.701039e+08   4.726163e+08  1.229237e+10   \n",
            "\n",
            "              total QScore  \n",
            "0      5.032351e-01     3A  \n",
            "1      1.732543e+06     3A  \n",
            "2      4.262086e-01     3A  \n",
            "3      1.467355e+06     3A  \n",
            "4      1.728629e+00     3A  \n",
            "...             ...    ...  \n",
            "72181  1.216928e+10     3A  \n",
            "72182  2.746619e+00     3A  \n",
            "72183  2.050891e+10     3A  \n",
            "72184  2.746619e+00     3A  \n",
            "72185  2.050891e+10     3A  \n",
            "\n",
            "[72186 rows x 12 columns]\n"
          ]
        }
      ]
    },
    {
      "cell_type": "code",
      "source": [
        "df['QScore'].value_counts()"
      ],
      "metadata": {
        "colab": {
          "base_uri": "https://localhost:8080/"
        },
        "id": "MUd_lykHv4yi",
        "outputId": "02a1966f-d1db-4153-a775-2bbac123fc8b"
      },
      "execution_count": null,
      "outputs": [
        {
          "output_type": "execute_result",
          "data": {
            "text/plain": [
              "3A    51481\n",
              "2A    10576\n",
              "2B    10096\n",
              "1A       16\n",
              "1B       16\n",
              "Name: QScore, dtype: int64"
            ]
          },
          "metadata": {},
          "execution_count": 4
        }
      ]
    },
    {
      "cell_type": "code",
      "source": [
        "df.head()"
      ],
      "metadata": {
        "colab": {
          "base_uri": "https://localhost:8080/",
          "height": 270
        },
        "id": "LFTBKRBTwkKd",
        "outputId": "a77a7ba9-4c74-4c6b-9e3a-bf124d2ee4f9"
      },
      "execution_count": null,
      "outputs": [
        {
          "output_type": "execute_result",
          "data": {
            "text/plain": [
              "   country  year  country_code        record      crop_land   grazing_land  \\\n",
              "0  Armenia  1992             1    AreaPerCap       0.140292       0.199546   \n",
              "1  Armenia  1992             1     AreaTotHA  483000.000000  687000.000000   \n",
              "2  Armenia  1992             1  BiocapPerCap       0.159804       0.135261   \n",
              "3  Armenia  1992             1  BiocapTotGHA  550176.242700  465677.972200   \n",
              "4  Armenia  1992             1  EFConsPerCap       0.387510       0.189462   \n",
              "\n",
              "   forest_land  fishing_ground  built_up_land    carbon         total QScore  \n",
              "0  0.097188051        0.036888       0.029320  0.000000  5.032351e-01     3A  \n",
              "1       334600   127000.000000  100943.000800  0.000000  1.732543e+06     3A  \n",
              "2  0.084003213        0.013742       0.033398  0.000000  4.262086e-01     3A  \n",
              "3  289207.1078    47311.551720  114982.279300  0.000000  1.467355e+06     3A  \n",
              "4     1.26E-06        0.004165       0.033398  1.114093  1.728629e+00     3A  "
            ],
            "text/html": [
              "\n",
              "  <div id=\"df-00279773-d0d8-4b2d-82e3-90a6a35b4b2a\">\n",
              "    <div class=\"colab-df-container\">\n",
              "      <div>\n",
              "<style scoped>\n",
              "    .dataframe tbody tr th:only-of-type {\n",
              "        vertical-align: middle;\n",
              "    }\n",
              "\n",
              "    .dataframe tbody tr th {\n",
              "        vertical-align: top;\n",
              "    }\n",
              "\n",
              "    .dataframe thead th {\n",
              "        text-align: right;\n",
              "    }\n",
              "</style>\n",
              "<table border=\"1\" class=\"dataframe\">\n",
              "  <thead>\n",
              "    <tr style=\"text-align: right;\">\n",
              "      <th></th>\n",
              "      <th>country</th>\n",
              "      <th>year</th>\n",
              "      <th>country_code</th>\n",
              "      <th>record</th>\n",
              "      <th>crop_land</th>\n",
              "      <th>grazing_land</th>\n",
              "      <th>forest_land</th>\n",
              "      <th>fishing_ground</th>\n",
              "      <th>built_up_land</th>\n",
              "      <th>carbon</th>\n",
              "      <th>total</th>\n",
              "      <th>QScore</th>\n",
              "    </tr>\n",
              "  </thead>\n",
              "  <tbody>\n",
              "    <tr>\n",
              "      <th>0</th>\n",
              "      <td>Armenia</td>\n",
              "      <td>1992</td>\n",
              "      <td>1</td>\n",
              "      <td>AreaPerCap</td>\n",
              "      <td>0.140292</td>\n",
              "      <td>0.199546</td>\n",
              "      <td>0.097188051</td>\n",
              "      <td>0.036888</td>\n",
              "      <td>0.029320</td>\n",
              "      <td>0.000000</td>\n",
              "      <td>5.032351e-01</td>\n",
              "      <td>3A</td>\n",
              "    </tr>\n",
              "    <tr>\n",
              "      <th>1</th>\n",
              "      <td>Armenia</td>\n",
              "      <td>1992</td>\n",
              "      <td>1</td>\n",
              "      <td>AreaTotHA</td>\n",
              "      <td>483000.000000</td>\n",
              "      <td>687000.000000</td>\n",
              "      <td>334600</td>\n",
              "      <td>127000.000000</td>\n",
              "      <td>100943.000800</td>\n",
              "      <td>0.000000</td>\n",
              "      <td>1.732543e+06</td>\n",
              "      <td>3A</td>\n",
              "    </tr>\n",
              "    <tr>\n",
              "      <th>2</th>\n",
              "      <td>Armenia</td>\n",
              "      <td>1992</td>\n",
              "      <td>1</td>\n",
              "      <td>BiocapPerCap</td>\n",
              "      <td>0.159804</td>\n",
              "      <td>0.135261</td>\n",
              "      <td>0.084003213</td>\n",
              "      <td>0.013742</td>\n",
              "      <td>0.033398</td>\n",
              "      <td>0.000000</td>\n",
              "      <td>4.262086e-01</td>\n",
              "      <td>3A</td>\n",
              "    </tr>\n",
              "    <tr>\n",
              "      <th>3</th>\n",
              "      <td>Armenia</td>\n",
              "      <td>1992</td>\n",
              "      <td>1</td>\n",
              "      <td>BiocapTotGHA</td>\n",
              "      <td>550176.242700</td>\n",
              "      <td>465677.972200</td>\n",
              "      <td>289207.1078</td>\n",
              "      <td>47311.551720</td>\n",
              "      <td>114982.279300</td>\n",
              "      <td>0.000000</td>\n",
              "      <td>1.467355e+06</td>\n",
              "      <td>3A</td>\n",
              "    </tr>\n",
              "    <tr>\n",
              "      <th>4</th>\n",
              "      <td>Armenia</td>\n",
              "      <td>1992</td>\n",
              "      <td>1</td>\n",
              "      <td>EFConsPerCap</td>\n",
              "      <td>0.387510</td>\n",
              "      <td>0.189462</td>\n",
              "      <td>1.26E-06</td>\n",
              "      <td>0.004165</td>\n",
              "      <td>0.033398</td>\n",
              "      <td>1.114093</td>\n",
              "      <td>1.728629e+00</td>\n",
              "      <td>3A</td>\n",
              "    </tr>\n",
              "  </tbody>\n",
              "</table>\n",
              "</div>\n",
              "      <button class=\"colab-df-convert\" onclick=\"convertToInteractive('df-00279773-d0d8-4b2d-82e3-90a6a35b4b2a')\"\n",
              "              title=\"Convert this dataframe to an interactive table.\"\n",
              "              style=\"display:none;\">\n",
              "        \n",
              "  <svg xmlns=\"http://www.w3.org/2000/svg\" height=\"24px\"viewBox=\"0 0 24 24\"\n",
              "       width=\"24px\">\n",
              "    <path d=\"M0 0h24v24H0V0z\" fill=\"none\"/>\n",
              "    <path d=\"M18.56 5.44l.94 2.06.94-2.06 2.06-.94-2.06-.94-.94-2.06-.94 2.06-2.06.94zm-11 1L8.5 8.5l.94-2.06 2.06-.94-2.06-.94L8.5 2.5l-.94 2.06-2.06.94zm10 10l.94 2.06.94-2.06 2.06-.94-2.06-.94-.94-2.06-.94 2.06-2.06.94z\"/><path d=\"M17.41 7.96l-1.37-1.37c-.4-.4-.92-.59-1.43-.59-.52 0-1.04.2-1.43.59L10.3 9.45l-7.72 7.72c-.78.78-.78 2.05 0 2.83L4 21.41c.39.39.9.59 1.41.59.51 0 1.02-.2 1.41-.59l7.78-7.78 2.81-2.81c.8-.78.8-2.07 0-2.86zM5.41 20L4 18.59l7.72-7.72 1.47 1.35L5.41 20z\"/>\n",
              "  </svg>\n",
              "      </button>\n",
              "      \n",
              "  <style>\n",
              "    .colab-df-container {\n",
              "      display:flex;\n",
              "      flex-wrap:wrap;\n",
              "      gap: 12px;\n",
              "    }\n",
              "\n",
              "    .colab-df-convert {\n",
              "      background-color: #E8F0FE;\n",
              "      border: none;\n",
              "      border-radius: 50%;\n",
              "      cursor: pointer;\n",
              "      display: none;\n",
              "      fill: #1967D2;\n",
              "      height: 32px;\n",
              "      padding: 0 0 0 0;\n",
              "      width: 32px;\n",
              "    }\n",
              "\n",
              "    .colab-df-convert:hover {\n",
              "      background-color: #E2EBFA;\n",
              "      box-shadow: 0px 1px 2px rgba(60, 64, 67, 0.3), 0px 1px 3px 1px rgba(60, 64, 67, 0.15);\n",
              "      fill: #174EA6;\n",
              "    }\n",
              "\n",
              "    [theme=dark] .colab-df-convert {\n",
              "      background-color: #3B4455;\n",
              "      fill: #D2E3FC;\n",
              "    }\n",
              "\n",
              "    [theme=dark] .colab-df-convert:hover {\n",
              "      background-color: #434B5C;\n",
              "      box-shadow: 0px 1px 3px 1px rgba(0, 0, 0, 0.15);\n",
              "      filter: drop-shadow(0px 1px 2px rgba(0, 0, 0, 0.3));\n",
              "      fill: #FFFFFF;\n",
              "    }\n",
              "  </style>\n",
              "\n",
              "      <script>\n",
              "        const buttonEl =\n",
              "          document.querySelector('#df-00279773-d0d8-4b2d-82e3-90a6a35b4b2a button.colab-df-convert');\n",
              "        buttonEl.style.display =\n",
              "          google.colab.kernel.accessAllowed ? 'block' : 'none';\n",
              "\n",
              "        async function convertToInteractive(key) {\n",
              "          const element = document.querySelector('#df-00279773-d0d8-4b2d-82e3-90a6a35b4b2a');\n",
              "          const dataTable =\n",
              "            await google.colab.kernel.invokeFunction('convertToInteractive',\n",
              "                                                     [key], {});\n",
              "          if (!dataTable) return;\n",
              "\n",
              "          const docLinkHtml = 'Like what you see? Visit the ' +\n",
              "            '<a target=\"_blank\" href=https://colab.research.google.com/notebooks/data_table.ipynb>data table notebook</a>'\n",
              "            + ' to learn more about interactive tables.';\n",
              "          element.innerHTML = '';\n",
              "          dataTable['output_type'] = 'display_data';\n",
              "          await google.colab.output.renderOutput(dataTable, element);\n",
              "          const docLink = document.createElement('div');\n",
              "          docLink.innerHTML = docLinkHtml;\n",
              "          element.appendChild(docLink);\n",
              "        }\n",
              "      </script>\n",
              "    </div>\n",
              "  </div>\n",
              "  "
            ]
          },
          "metadata": {},
          "execution_count": 5
        }
      ]
    },
    {
      "cell_type": "code",
      "source": [
        "df['QScore'].describe()"
      ],
      "metadata": {
        "colab": {
          "base_uri": "https://localhost:8080/"
        },
        "id": "OjqzcCdxwp2u",
        "outputId": "a018ac55-5af0-4e58-b179-2628fdd83da9"
      },
      "execution_count": null,
      "outputs": [
        {
          "output_type": "execute_result",
          "data": {
            "text/plain": [
              "count     72185\n",
              "unique        5\n",
              "top          3A\n",
              "freq      51481\n",
              "Name: QScore, dtype: object"
            ]
          },
          "metadata": {},
          "execution_count": 6
        }
      ]
    },
    {
      "cell_type": "code",
      "source": [
        "df.isna().sum()"
      ],
      "metadata": {
        "colab": {
          "base_uri": "https://localhost:8080/"
        },
        "id": "vqlUkXnAxdR0",
        "outputId": "af674ca0-44cf-47b8-8444-0450ca6ec799"
      },
      "execution_count": null,
      "outputs": [
        {
          "output_type": "execute_result",
          "data": {
            "text/plain": [
              "country               0\n",
              "year                  0\n",
              "country_code          0\n",
              "record                0\n",
              "crop_land         20472\n",
              "grazing_land      20472\n",
              "forest_land       20472\n",
              "fishing_ground    20473\n",
              "built_up_land     20473\n",
              "carbon            20473\n",
              "total                 9\n",
              "QScore                1\n",
              "dtype: int64"
            ]
          },
          "metadata": {},
          "execution_count": 7
        }
      ]
    },
    {
      "cell_type": "code",
      "source": [
        "df=df.dropna()"
      ],
      "metadata": {
        "id": "PJUxeXg5yB3j"
      },
      "execution_count": null,
      "outputs": []
    },
    {
      "cell_type": "code",
      "source": [
        "df['QScore']=df['QScore'].replace(['A'],'2A')"
      ],
      "metadata": {
        "id": "K8fPyJPoyfcv"
      },
      "execution_count": null,
      "outputs": []
    },
    {
      "cell_type": "code",
      "source": [
        "df.QScore.value_counts()"
      ],
      "metadata": {
        "colab": {
          "base_uri": "https://localhost:8080/"
        },
        "id": "kH_-SyQBz8zp",
        "outputId": "bdee2c32-d78f-4ff0-bda5-79f7bea9ab47"
      },
      "execution_count": null,
      "outputs": [
        {
          "output_type": "execute_result",
          "data": {
            "text/plain": [
              "3A    51473\n",
              "2A      224\n",
              "1A       16\n",
              "Name: QScore, dtype: int64"
            ]
          },
          "metadata": {},
          "execution_count": 10
        }
      ]
    },
    {
      "cell_type": "code",
      "source": [
        "df_2A= df[df.QScore=='2A']\n",
        "df_3A = df[df.QScore =='3A'].sample(350)"
      ],
      "metadata": {
        "id": "RA2GhVN10YXA"
      },
      "execution_count": null,
      "outputs": []
    },
    {
      "cell_type": "code",
      "source": [
        "data_df= df_2A.append(df_3A)"
      ],
      "metadata": {
        "id": "p0D2WR_w1QcL"
      },
      "execution_count": null,
      "outputs": []
    },
    {
      "cell_type": "code",
      "source": [
        "import sklearn.utils\n",
        "data_df=sklearn.utils.shuffle(data_df)\n",
        "data_df=data_df.reset_index(drop=True)\n",
        "data_df.shape"
      ],
      "metadata": {
        "colab": {
          "base_uri": "https://localhost:8080/"
        },
        "id": "UHqPBx3a1kbD",
        "outputId": "baa1a9c2-1cf5-4f9c-ad36-0e49e83a783f"
      },
      "execution_count": null,
      "outputs": [
        {
          "output_type": "execute_result",
          "data": {
            "text/plain": [
              "(574, 12)"
            ]
          },
          "metadata": {},
          "execution_count": 13
        }
      ]
    },
    {
      "cell_type": "code",
      "source": [
        "data_df=data_df.drop(columns= ['country_code', 'country', 'year'])\n",
        "x = data_df.drop(columns='QScore')\n",
        "y= data_df['QScore'] "
      ],
      "metadata": {
        "id": "rZ5ssb_e16-B"
      },
      "execution_count": null,
      "outputs": []
    },
    {
      "cell_type": "code",
      "source": [
        "from sklearn.model_selection import train_test_split\n",
        "x_train,x_test,y_train,y_test =train_test_split(x,y,test_size=0.3,random_state=0)\n",
        "y_train.value_counts()"
      ],
      "metadata": {
        "colab": {
          "base_uri": "https://localhost:8080/"
        },
        "id": "j5hwuQgMLTRv",
        "outputId": "aa4d1aa9-f20a-4f14-e617-7654f29db01b"
      },
      "execution_count": null,
      "outputs": [
        {
          "output_type": "execute_result",
          "data": {
            "text/plain": [
              "3A    239\n",
              "2A    162\n",
              "Name: QScore, dtype: int64"
            ]
          },
          "metadata": {},
          "execution_count": 15
        }
      ]
    },
    {
      "cell_type": "code",
      "source": [
        "#There is still an imbalance in the class distribution. For this, we use SMOTE only on the training data to handle this\n",
        "from sklearn.preprocessing import LabelEncoder\n",
        "encoder = LabelEncoder()\n",
        "x_train.record=encoder.fit_transform(x_train.record)\n",
        "x_test.record =encoder.fit_transform(x_test.record)"
      ],
      "metadata": {
        "id": "cGVEOp1yOc8W"
      },
      "execution_count": null,
      "outputs": []
    },
    {
      "cell_type": "code",
      "source": [
        "import imblearn\n",
        "from imblearn.over_sampling import SMOTE\n",
        "smote= SMOTE(random_state=1)\n",
        "x_train_balanced,y_balanced = smote.fit_resample(x_train,y_train)"
      ],
      "metadata": {
        "id": "745gOiG_O_gs"
      },
      "execution_count": null,
      "outputs": []
    },
    {
      "cell_type": "code",
      "source": [
        "from sklearn.preprocessing import MinMaxScaler\n",
        "scaler = MinMaxScaler()\n",
        "normalised_train_df = scaler.fit_transform(x_train_balanced.drop(columns=['record']))\n",
        "normalised_train_df=pd.DataFrame(normalised_train_df,columns=x_train_balanced.drop(columns=['record']).columns)\n",
        "normalised_train_df['record']=x_train_balanced['record']\n"
      ],
      "metadata": {
        "id": "oOvLSsPoRaSj"
      },
      "execution_count": null,
      "outputs": []
    },
    {
      "cell_type": "code",
      "source": [
        "x_test=x_test.reset_index(drop=True)\n",
        "normalised_test_df=scaler.transform(x_test.drop(columns=['record']))\n",
        "normalised_test_df =pd.DataFrame(normalised_test_df,columns=x_test.drop(columns=['record']).columns)\n",
        "normalised_test_df['record']=x_train_balanced['record']"
      ],
      "metadata": {
        "id": "qJ3IrnWoy5LH"
      },
      "execution_count": null,
      "outputs": []
    },
    {
      "cell_type": "code",
      "source": [
        "from sklearn.linear_model import LogisticRegression\n",
        "log_reg = LogisticRegression()\n",
        "log_reg.fit(normalised_train_df,y_balanced)"
      ],
      "metadata": {
        "colab": {
          "base_uri": "https://localhost:8080/"
        },
        "id": "ridvqQME04kD",
        "outputId": "354eb2c1-2021-461e-e707-aca2064cddf9"
      },
      "execution_count": null,
      "outputs": [
        {
          "output_type": "execute_result",
          "data": {
            "text/plain": [
              "LogisticRegression()"
            ]
          },
          "metadata": {},
          "execution_count": 21
        }
      ]
    },
    {
      "cell_type": "code",
      "source": [
        "from sklearn.metrics import recall_score,accuracy_score,precision_score,f1_score,confusion_matrix\n",
        "new_predictions =log_reg.predict(normalised_test_df)\n",
        "cnf_mat=confusion_matrix(y_true=y_test,y_pred=new_predictions,labels=['2A','3A'])\n",
        "cnf_mat"
      ],
      "metadata": {
        "colab": {
          "base_uri": "https://localhost:8080/"
        },
        "id": "HAqXn2SNySnW",
        "outputId": "e1fde55f-c044-4d1a-ea3c-23f7e37a803e"
      },
      "execution_count": null,
      "outputs": [
        {
          "output_type": "execute_result",
          "data": {
            "text/plain": [
              "array([[48, 14],\n",
              "       [92, 19]])"
            ]
          },
          "metadata": {},
          "execution_count": 23
        }
      ]
    },
    {
      "cell_type": "code",
      "source": [
        "from sklearn.model_selection import cross_val_score\n",
        "scores = cross_val_score(log_reg,normalised_train_df,y_balanced,cv=5,scoring='f1_macro')\n",
        "scores"
      ],
      "metadata": {
        "colab": {
          "base_uri": "https://localhost:8080/"
        },
        "id": "ycidm0d9z_TA",
        "outputId": "6af50a09-9c4d-44a7-b9db-f9ec8b3f451b"
      },
      "execution_count": null,
      "outputs": [
        {
          "output_type": "execute_result",
          "data": {
            "text/plain": [
              "array([0.54184612, 0.39478261, 0.41700405, 0.48924731, 0.50328179])"
            ]
          },
          "metadata": {},
          "execution_count": 25
        }
      ]
    },
    {
      "cell_type": "code",
      "source": [
        "#accuracy\n",
        "accuracy=accuracy_score(y_true=y_test,y_pred=new_predictions)\n",
        "print('Accuracy:{}'.format(round(accuracy*100),2))"
      ],
      "metadata": {
        "colab": {
          "base_uri": "https://localhost:8080/"
        },
        "id": "RqREXDBW1APc",
        "outputId": "2890b812-5a24-4675-a518-2e24594de7e1"
      },
      "execution_count": null,
      "outputs": [
        {
          "output_type": "stream",
          "name": "stdout",
          "text": [
            "Accuracy:39\n"
          ]
        }
      ]
    },
    {
      "cell_type": "code",
      "source": [
        "#precision\n",
        "precision=precision_score(y_true=y_test,y_pred=new_predictions,pos_label='2A')\n",
        "print('precision:{}'.format(round(precision*100),2))\n"
      ],
      "metadata": {
        "colab": {
          "base_uri": "https://localhost:8080/"
        },
        "id": "kN_gXUbh2ciR",
        "outputId": "d2e6cc7a-5a21-49e9-e784-e73fdb762c96"
      },
      "execution_count": null,
      "outputs": [
        {
          "output_type": "stream",
          "name": "stdout",
          "text": [
            "precision:34\n"
          ]
        }
      ]
    },
    {
      "cell_type": "code",
      "source": [
        "#recall\n",
        "recall=recall_score(y_true=y_test,y_pred=new_predictions,pos_label='2A')\n",
        "print('recall:{}'.format(round(recall*100),2))\n"
      ],
      "metadata": {
        "colab": {
          "base_uri": "https://localhost:8080/"
        },
        "id": "VQBfqeG33yYZ",
        "outputId": "0176e5d8-fb58-4745-8149-b52ab0c7feab"
      },
      "execution_count": null,
      "outputs": [
        {
          "output_type": "stream",
          "name": "stdout",
          "text": [
            "recall:77\n"
          ]
        }
      ]
    },
    {
      "cell_type": "code",
      "source": [
        "#f1\n",
        "f1=f1_score(y_true=y_test,y_pred=new_predictions,pos_label='2A')\n",
        "print('f1:{}'.format(round(f1*100),2))"
      ],
      "metadata": {
        "colab": {
          "base_uri": "https://localhost:8080/"
        },
        "id": "ftm1hhAD49rP",
        "outputId": "a1f56a1b-2ebe-4f2e-838f-f90de8daf206"
      },
      "execution_count": null,
      "outputs": [
        {
          "output_type": "stream",
          "name": "stdout",
          "text": [
            "f1:48\n"
          ]
        }
      ]
    },
    {
      "cell_type": "code",
      "source": [
        "#K_FOLD\n",
        "from sklearn.model_selection import KFold\n",
        "kf = KFold(n_splits=5)\n",
        "kf.split(normalised_train_df)\n",
        "f1_scores=[]\n",
        "\n"
      ],
      "metadata": {
        "id": "Jtvx5Ha_5xO4"
      },
      "execution_count": null,
      "outputs": []
    },
    {
      "cell_type": "code",
      "source": [
        "#run for every split\n",
        "for train_index, test_index in kf.split(normalised_train_df):\n",
        "       x_train, x_test = normalised_train_df.iloc[train_index], normalised_train_df.iloc[test_index]\n",
        "       y_train, y_test = y_balanced[train_index], y_balanced[test_index]\n",
        "       model = LogisticRegression().fit(x_train, y_train)\n",
        " #save result to list\n",
        "f1_scores.append(f1_score(y_true = y_test, y_pred = model.predict(x_test),pos_label = '2A')*100)\n",
        "f1_scores"
      ],
      "metadata": {
        "colab": {
          "base_uri": "https://localhost:8080/"
        },
        "id": "NEI3Vnds7s89",
        "outputId": "a3a2a8b1-181c-4e2d-f06e-8408b958f024"
      },
      "execution_count": null,
      "outputs": [
        {
          "output_type": "execute_result",
          "data": {
            "text/plain": [
              "[0.0, 0.0]"
            ]
          },
          "metadata": {},
          "execution_count": 40
        }
      ]
    },
    {
      "cell_type": "code",
      "source": [
        "#stratified kfold\n",
        "from sklearn.model_selection import StratifiedKFold\n",
        "skf = StratifiedKFold(n_splits=5, shuffle=True, random_state=1)\n",
        "f1_scores = []\n",
        "#run for every split\n",
        "for train_index, test_index in skf.split(normalised_train_df, y_balanced):\n",
        "    x_train, x_test = np.array(normalised_train_df)[train_index], np.array(normalised_train_df)[test_index]\n",
        "    y_train, y_test = y_balanced[train_index], y_balanced[test_index]\n",
        "model = LogisticRegression().fit(x_train, y_train)\n",
        "#save result to list\\n\",\n",
        "f1_scores.append(f1_score(y_true = y_test, y_pred = model.predict(x_test),pos_label = '2A')*100)\n",
        "f1_scores"
      ],
      "metadata": {
        "colab": {
          "base_uri": "https://localhost:8080/"
        },
        "id": "v3-HXhj19WiU",
        "outputId": "d34a6216-2d34-41fa-8789-afae3704f2de"
      },
      "execution_count": null,
      "outputs": [
        {
          "output_type": "execute_result",
          "data": {
            "text/plain": [
              "[68.8]"
            ]
          },
          "metadata": {},
          "execution_count": 42
        }
      ]
    },
    {
      "cell_type": "code",
      "source": [
        "#LeaveOneOut\n",
        "from sklearn.model_selection import LeaveOneOut\n",
        "loo = LeaveOneOut()\n",
        "scores = cross_val_score(LogisticRegression(), normalised_train_df, y_balanced, cv=loo, scoring='f1_macro')\n",
        "average_score = scores.mean() * 100\n",
        "average_score\n",
        "   "
      ],
      "metadata": {
        "colab": {
          "base_uri": "https://localhost:8080/"
        },
        "id": "sNmWsbi0-bDX",
        "outputId": "2dc4e3d6-8d60-421a-b9a2-0ab9769680b9"
      },
      "execution_count": null,
      "outputs": [
        {
          "output_type": "execute_result",
          "data": {
            "text/plain": [
              "52.09205020920502"
            ]
          },
          "metadata": {},
          "execution_count": 44
        }
      ]
    },
    {
      "cell_type": "code",
      "source": [
        "#Decision Tree Classifier\n",
        "#Tree-Based Methods and The Support Vector Machine\n",
        "from sklearn.tree import DecisionTreeClassifier\n",
        "dec_tree = DecisionTreeClassifier()\n",
        "dec_tree.fit(normalised_train_df, y_balanced)\n",
        "   "
      ],
      "metadata": {
        "colab": {
          "base_uri": "https://localhost:8080/"
        },
        "id": "yN1oKJ-b_NiA",
        "outputId": "00fc2ecf-ed78-4d28-c47d-c90f0fe4945c"
      },
      "execution_count": null,
      "outputs": [
        {
          "output_type": "execute_result",
          "data": {
            "text/plain": [
              "DecisionTreeClassifier()"
            ]
          },
          "metadata": {},
          "execution_count": 46
        }
      ]
    },
    {
      "cell_type": "code",
      "source": [],
      "metadata": {
        "id": "99dynEdpAQyu"
      },
      "execution_count": null,
      "outputs": []
    }
  ]
}